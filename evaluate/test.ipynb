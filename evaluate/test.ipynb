{
 "cells": [
  {
   "cell_type": "code",
   "execution_count": 94,
   "metadata": {},
   "outputs": [],
   "source": [
    "import sys\n",
    "sys.path.append('pizza/utils')\n",
    "from trees import TopSemanticTree, ExpressSemanticTree\n",
    "from semantic_matchers import is_unordered_exact_match, is_semantics_only_unordered_exact_match, \\\n",
    "                              is_semantics_only_unordered_exact_match_post_ER, is_unordered_exact_match_post_ER, is_semantics_only_unordered_exact_match_post_ER_top_top\n",
    "from entity_resolution import PizzaSkillEntityResolver"
   ]
  },
  {
   "cell_type": "code",
   "execution_count": 95,
   "metadata": {},
   "outputs": [],
   "source": [
    "top_pred_string_same = \"(ORDER good afternoon i'm in the mood for (PIZZAORDER (NUMBER a ) (SIZE medium ) pizza i'd love (TOPPING pineapple ) on it and i love (STYLE thin crust ) please do not put any (NOT (TOPPING ham ) ) ) on there i don't like ham on pizza )\"\n",
    "exr_string = \" (ORDER (PIZZAORDER (SIZE medium ) (TOPPING love ) ) )\""
   ]
  },
  {
   "cell_type": "code",
   "execution_count": 96,
   "metadata": {},
   "outputs": [
    {
     "data": {
      "text/plain": [
       "0.4166666666666667"
      ]
     },
     "execution_count": 96,
     "metadata": {},
     "output_type": "execute_result"
    }
   ],
   "source": [
    "resolver = PizzaSkillEntityResolver()\n",
    "is_semantics_only_unordered_exact_match_post_ER_top_top(top_pred_string_same, exr_string, resolver)"
   ]
  },
  {
   "cell_type": "code",
   "execution_count": 97,
   "metadata": {},
   "outputs": [
    {
     "name": "stdout",
     "output_type": "stream",
     "text": [
      "CSV files created: \n",
      "Test Set: ../mimic_competition\\test_set.csv\n",
      "Correct: ../mimic_competition\\correct.csv\n"
     ]
    }
   ],
   "source": [
    "import csv\n",
    "import json\n",
    "import os\n",
    "\n",
    "def json_to_csv(json_path, output_folder=None):\n",
    "    \"\"\"\n",
    "    Reads a JSON file and creates two CSV files: test_set.csv and correct.csv.\n",
    "\n",
    "    Parameters:\n",
    "        json_path (str): Path to the input JSON file.\n",
    "        output_folder (str): Path to the folder where CSV files will be saved.\n",
    "                            If None, files are saved in the same folder as the JSON file.\n",
    "    \"\"\"\n",
    "    # Determine the output folder\n",
    "    if output_folder is None:\n",
    "        output_folder = os.path.dirname(json_path)\n",
    "\n",
    "    # Prepare paths for output files\n",
    "    test_set_path = os.path.join(output_folder, 'test_set.csv')\n",
    "    correct_path = os.path.join(output_folder, 'correct.csv')\n",
    "\n",
    "    try:\n",
    "        # Read JSON file\n",
    "        with open(json_path, 'r', encoding='utf-8') as f:\n",
    "            data = [json.loads(line) for line in f]\n",
    "\n",
    "        # Write test_set.csv\n",
    "        with open(test_set_path, 'w', encoding='utf-8', newline='') as test_file:\n",
    "            writer = csv.writer(test_file)\n",
    "            writer.writerow(['id', 'order'])\n",
    "            for idx, entry in enumerate(data):\n",
    "                writer.writerow([idx, entry['test.SRC']])\n",
    "\n",
    "        # Write correct.csv\n",
    "        with open(correct_path, 'w', encoding='utf-8', newline='') as correct_file:\n",
    "            writer = csv.writer(correct_file)\n",
    "            writer.writerow(['id', 'output'])\n",
    "            for idx, entry in enumerate(data):\n",
    "                writer.writerow([idx, entry['test.TOP']])\n",
    "\n",
    "        print(f\"CSV files created: \\nTest Set: {test_set_path}\\nCorrect: {correct_path}\")\n",
    "\n",
    "    except Exception as e:\n",
    "        print(f\"An error occurred: {str(e)}\")\n",
    "        \n",
    "json_to_csv('../dataset2/PIZZA_dev.json', output_folder='../mimic_competition')"
   ]
  },
  {
   "cell_type": "code",
   "execution_count": 98,
   "metadata": {},
   "outputs": [
    {
     "name": "stdout",
     "output_type": "stream",
     "text": [
      "ACC: 0.7155\n",
      "Exact match: 0.1606\n"
     ]
    }
   ],
   "source": [
    "import csv\n",
    "\n",
    "def evaluate_accuracy(test_set_path, correct_path):\n",
    "    \"\"\"\n",
    "    Compares sentences from two CSV files using a semantic matching function and calculates accuracy.\n",
    "\n",
    "    Parameters:\n",
    "        test_set_path (str): Path to the test_set.csv file.\n",
    "        correct_path (str): Path to the correct.csv file.\n",
    "\n",
    "    Prints:\n",
    "        ACC: Average score across all comparisons.\n",
    "        Exact match: Percentage of exact matches.\n",
    "    \"\"\"\n",
    "    resolver = PizzaSkillEntityResolver()\n",
    "    try:\n",
    "        with open(test_set_path, 'r', encoding='utf-8') as test_file, open(correct_path, 'r', encoding='utf-8') as correct_file:\n",
    "            test_reader = csv.DictReader(test_file)\n",
    "            correct_reader = csv.DictReader(correct_file)\n",
    "\n",
    "            scores = []\n",
    "            exact_matches = 0\n",
    "\n",
    "            for test_row, correct_row in zip(test_reader, correct_reader):\n",
    "                result = test_row['output']\n",
    "                top = correct_row['output']\n",
    "\n",
    "                # Call the semantic matching function\n",
    "                score = is_semantics_only_unordered_exact_match_post_ER_top_top(result, top, resolver)\n",
    "                scores.append(score)\n",
    "\n",
    "                if score == 1:\n",
    "                    exact_matches += 1\n",
    "\n",
    "            acc = sum(scores) / len(scores)\n",
    "            exact_match = exact_matches / len(scores)\n",
    "\n",
    "            print(f\"ACC: {acc:.4f}\")\n",
    "            print(f\"Exact match: {exact_match:.4f}\")\n",
    "\n",
    "    except Exception as e:\n",
    "        print(f\"An error occurred: {str(e)}\")\n",
    "\n",
    "evaluate_accuracy('../mimic_competition/1.csv', '../mimic_competition/correct.csv')"
   ]
  }
 ],
 "metadata": {
  "kernelspec": {
   "display_name": "Python 3",
   "language": "python",
   "name": "python3"
  },
  "language_info": {
   "codemirror_mode": {
    "name": "ipython",
    "version": 3
   },
   "file_extension": ".py",
   "mimetype": "text/x-python",
   "name": "python",
   "nbconvert_exporter": "python",
   "pygments_lexer": "ipython3",
   "version": "3.11.5"
  }
 },
 "nbformat": 4,
 "nbformat_minor": 2
}
